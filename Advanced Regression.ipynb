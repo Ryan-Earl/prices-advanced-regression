{
 "cells": [
  {
   "cell_type": "markdown",
   "metadata": {},
   "source": [
    "# Housing Price Prediction: Advanced Regression"
   ]
  },
  {
   "cell_type": "markdown",
   "metadata": {},
   "source": [
    "# Data Preprocessing"
   ]
  },
  {
   "cell_type": "markdown",
   "metadata": {},
   "source": [
    "Import train and test data, then combine into a single dataframe to begin preprocessing."
   ]
  },
  {
   "cell_type": "code",
   "execution_count": 1,
   "metadata": {},
   "outputs": [],
   "source": [
    "import pandas as pd\n",
    "\n",
    "train = pd.read_csv(\"train.csv\")\n",
    "test = pd.read_csv(\"test.csv\")\n",
    "test_index = test['Id']\n",
    "price = train['SalePrice']\n",
    "df = train.drop([\"SalePrice\"], axis=1).append(test, ignore_index=True, sort=True)"
   ]
  },
  {
   "cell_type": "markdown",
   "metadata": {},
   "source": [
    "## Dealing with Missing Values"
   ]
  },
  {
   "cell_type": "markdown",
   "metadata": {},
   "source": [
    "drop columns with over 60% of values missing and print the remaining columns with missing values"
   ]
  },
  {
   "cell_type": "code",
   "execution_count": 2,
   "metadata": {},
   "outputs": [
    {
     "name": "stdout",
     "output_type": "stream",
     "text": [
      "BsmtCond         82\n",
      "BsmtExposure     82\n",
      "BsmtFinSF1        1\n",
      "BsmtFinSF2        1\n",
      "BsmtFinType1     79\n",
      "BsmtFinType2     80\n",
      "BsmtFullBath      2\n",
      "BsmtHalfBath      2\n",
      "BsmtQual         81\n",
      "BsmtUnfSF         1\n",
      "Electrical        1\n",
      "Exterior1st       1\n",
      "Exterior2nd       1\n",
      "Functional        2\n",
      "GarageArea        1\n",
      "GarageCars        1\n",
      "GarageCond      159\n",
      "GarageFinish    159\n",
      "GarageQual      159\n",
      "GarageType      157\n",
      "GarageYrBlt     159\n",
      "KitchenQual       1\n",
      "LotFrontage     486\n",
      "MSZoning          4\n",
      "MasVnrArea       23\n",
      "MasVnrType       24\n",
      "SaleType          1\n",
      "TotalBsmtSF       1\n",
      "Utilities         2\n",
      "dtype: int64\n",
      "Columns with missing values: 75\n"
     ]
    }
   ],
   "source": [
    "import numpy as np\n",
    "\n",
    "df = df.replace([' ','NULL'], np.nan).dropna(thresh=df.shape[0]*.6, how='all', axis=1)\n",
    "null_val = df.isnull().sum()\n",
    "print(null_val[null_val > 0])\n",
    "print(f\"Columns with missing values: {len(null_val)}\")"
   ]
  },
  {
   "cell_type": "markdown",
   "metadata": {},
   "source": [
    "There are a multitude of missing values across basement columns. The easy way to deal with these columns would be to simply impute missing values with some measure of central tendency for the column (i.e. mean, median). However, there are probably more intuitive way to deduce the missing values of basement columns. To get a picture of what's happenning, let's extract all rows that contain missing basement values. "
   ]
  },
  {
   "cell_type": "code",
   "execution_count": 3,
   "metadata": {},
   "outputs": [
    {
     "data": {
      "text/html": [
       "<div>\n",
       "<style scoped>\n",
       "    .dataframe tbody tr th:only-of-type {\n",
       "        vertical-align: middle;\n",
       "    }\n",
       "\n",
       "    .dataframe tbody tr th {\n",
       "        vertical-align: top;\n",
       "    }\n",
       "\n",
       "    .dataframe thead th {\n",
       "        text-align: right;\n",
       "    }\n",
       "</style>\n",
       "<table border=\"1\" class=\"dataframe\">\n",
       "  <thead>\n",
       "    <tr style=\"text-align: right;\">\n",
       "      <th></th>\n",
       "      <th>BsmtCond</th>\n",
       "      <th>BsmtExposure</th>\n",
       "      <th>BsmtFinSF1</th>\n",
       "      <th>BsmtFinSF2</th>\n",
       "      <th>BsmtFinType1</th>\n",
       "      <th>BsmtFinType2</th>\n",
       "      <th>BsmtFullBath</th>\n",
       "      <th>BsmtHalfBath</th>\n",
       "      <th>BsmtQual</th>\n",
       "      <th>BsmtUnfSF</th>\n",
       "      <th>TotalBsmtSF</th>\n",
       "    </tr>\n",
       "  </thead>\n",
       "  <tbody>\n",
       "    <tr>\n",
       "      <th>17</th>\n",
       "      <td>NaN</td>\n",
       "      <td>NaN</td>\n",
       "      <td>0.0</td>\n",
       "      <td>0.0</td>\n",
       "      <td>NaN</td>\n",
       "      <td>NaN</td>\n",
       "      <td>0.0</td>\n",
       "      <td>0.0</td>\n",
       "      <td>NaN</td>\n",
       "      <td>0.0</td>\n",
       "      <td>0.0</td>\n",
       "    </tr>\n",
       "    <tr>\n",
       "      <th>39</th>\n",
       "      <td>NaN</td>\n",
       "      <td>NaN</td>\n",
       "      <td>0.0</td>\n",
       "      <td>0.0</td>\n",
       "      <td>NaN</td>\n",
       "      <td>NaN</td>\n",
       "      <td>0.0</td>\n",
       "      <td>0.0</td>\n",
       "      <td>NaN</td>\n",
       "      <td>0.0</td>\n",
       "      <td>0.0</td>\n",
       "    </tr>\n",
       "    <tr>\n",
       "      <th>90</th>\n",
       "      <td>NaN</td>\n",
       "      <td>NaN</td>\n",
       "      <td>0.0</td>\n",
       "      <td>0.0</td>\n",
       "      <td>NaN</td>\n",
       "      <td>NaN</td>\n",
       "      <td>0.0</td>\n",
       "      <td>0.0</td>\n",
       "      <td>NaN</td>\n",
       "      <td>0.0</td>\n",
       "      <td>0.0</td>\n",
       "    </tr>\n",
       "    <tr>\n",
       "      <th>102</th>\n",
       "      <td>NaN</td>\n",
       "      <td>NaN</td>\n",
       "      <td>0.0</td>\n",
       "      <td>0.0</td>\n",
       "      <td>NaN</td>\n",
       "      <td>NaN</td>\n",
       "      <td>0.0</td>\n",
       "      <td>0.0</td>\n",
       "      <td>NaN</td>\n",
       "      <td>0.0</td>\n",
       "      <td>0.0</td>\n",
       "    </tr>\n",
       "    <tr>\n",
       "      <th>156</th>\n",
       "      <td>NaN</td>\n",
       "      <td>NaN</td>\n",
       "      <td>0.0</td>\n",
       "      <td>0.0</td>\n",
       "      <td>NaN</td>\n",
       "      <td>NaN</td>\n",
       "      <td>0.0</td>\n",
       "      <td>0.0</td>\n",
       "      <td>NaN</td>\n",
       "      <td>0.0</td>\n",
       "      <td>0.0</td>\n",
       "    </tr>\n",
       "  </tbody>\n",
       "</table>\n",
       "</div>"
      ],
      "text/plain": [
       "    BsmtCond BsmtExposure  BsmtFinSF1  BsmtFinSF2 BsmtFinType1 BsmtFinType2  \\\n",
       "17       NaN          NaN         0.0         0.0          NaN          NaN   \n",
       "39       NaN          NaN         0.0         0.0          NaN          NaN   \n",
       "90       NaN          NaN         0.0         0.0          NaN          NaN   \n",
       "102      NaN          NaN         0.0         0.0          NaN          NaN   \n",
       "156      NaN          NaN         0.0         0.0          NaN          NaN   \n",
       "\n",
       "     BsmtFullBath  BsmtHalfBath BsmtQual  BsmtUnfSF  TotalBsmtSF  \n",
       "17            0.0           0.0      NaN        0.0          0.0  \n",
       "39            0.0           0.0      NaN        0.0          0.0  \n",
       "90            0.0           0.0      NaN        0.0          0.0  \n",
       "102           0.0           0.0      NaN        0.0          0.0  \n",
       "156           0.0           0.0      NaN        0.0          0.0  "
      ]
     },
     "execution_count": 3,
     "metadata": {},
     "output_type": "execute_result"
    }
   ],
   "source": [
    "bsmt = df[[\"BsmtCond\",\"BsmtExposure\",\"BsmtFinSF1\",\"BsmtFinSF2\",\"BsmtFinType1\",\n",
    "           \"BsmtFinType2\",\"BsmtFullBath\",\"BsmtHalfBath\",\"BsmtQual\",\"BsmtUnfSF\",\"TotalBsmtSF\"]]\n",
    "null_bsmt = bsmt[bsmt.isnull().any(axis=1)]\n",
    "null_bsmt.head(5)"
   ]
  },
  {
   "cell_type": "markdown",
   "metadata": {},
   "source": [
    "It looks like most basements with missing values don't exist, let's drop all rows with a total basement square footage of 0. Let's try the same with the Garage. For the rest, drop if all columns are nan, otherwise impute missing values based on mean or mode. "
   ]
  },
  {
   "cell_type": "code",
   "execution_count": 4,
   "metadata": {},
   "outputs": [],
   "source": [
    "df = df[df.TotalBsmtSF != 0]\n",
    "df = df[df.GarageArea != 0]\n",
    "df['LotFrontage'] = df['LotFrontage'].fillna(0)\n",
    "\n",
    "mean_col = [\"BsmtFinSF1\",\"BsmtFinSF2\",\"BsmtUnfSF\",\"GarageArea\",\"MasVnrArea\",\"TotalBsmtSF\"]\n",
    "for col in mean_col:\n",
    "    df[col] = df[col].fillna((df[col].mean()))\n",
    "\n",
    "df = df.apply(lambda x:x.fillna(x.value_counts().index[0]))"
   ]
  },
  {
   "cell_type": "markdown",
   "metadata": {},
   "source": [
    "## Visualizations"
   ]
  },
  {
   "cell_type": "code",
   "execution_count": 11,
   "metadata": {},
   "outputs": [
    {
     "data": {
      "image/png": "[encoded data removed]",
      "text/plain": [
       "<Figure size 1224x576 with 2 Axes>"
      ]
     },
     "metadata": {},
     "output_type": "display_data"
    },
    {
     "name": "stdout",
     "output_type": "stream",
     "text": [
      "Minimum Sale Price: 34900, Maximum Sale Price: 755000, Average Price: 180921.2\n"
     ]
    }
   ],
   "source": [
    "import matplotlib as mpl\n",
    "import matplotlib.pyplot as plt\n",
    "plt.style.use(\"ggplot\")\n",
    "\n",
    "fig, axes = plt.subplots(nrows=1, ncols=2, figsize=(17,8))\n",
    "ax0, ax1 = axes.flatten()\n",
    "n_bins = 10\n",
    "\n",
    "ax0.hist(price, n_bins, histtype='bar')\n",
    "ax0.set_title('House Prices')\n",
    "ax0.set_xlabel('Sale Price')\n",
    "ax0.set_ylabel('Frequency')\n",
    "\n",
    "ax1.hist(df['YearBuilt'], n_bins, color='orange')\n",
    "ax1.set_title('Year Built')\n",
    "ax1.set_xlabel('Year')\n",
    "ax1.set_ylabel('Frequency')\n",
    "\n",
    "plt.show()\n",
    "\n",
    "print(f\"Minimum Sale Price: {price.min()}, Maximum Sale Price: {price.max()}, Average Price: {round(price.mean(), 2)}\")"
   ]
  },
  {
   "cell_type": "code",
   "execution_count": null,
   "metadata": {},
   "outputs": [],
   "source": []
  }
 ],
 "metadata": {
  "kernelspec": {
   "display_name": "Python 3",
   "language": "python",
   "name": "python3"
  },
  "language_info": {
   "codemirror_mode": {
    "name": "ipython",
    "version": 3
   },
   "file_extension": ".py",
   "mimetype": "text/x-python",
   "name": "python",
   "nbconvert_exporter": "python",
   "pygments_lexer": "ipython3",
   "version": "3.6.8"
  }
 },
 "nbformat": 4,
 "nbformat_minor": 2
}
